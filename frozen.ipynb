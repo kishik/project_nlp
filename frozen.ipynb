{
 "cells": [
  {
   "cell_type": "code",
   "execution_count": 1,
   "id": "51abc184-e75f-4b00-9a3a-6306752e0f1f",
   "metadata": {},
   "outputs": [
    {
     "name": "stderr",
     "output_type": "stream",
     "text": [
      "Found cached dataset csv (/home/maxim/.cache/huggingface/datasets/TopicNet___csv/TopicNet--Lenta-5798a04907214574/0.0.0/6954658bab30a358235fa864b05cf819af0e179325c740e4bc853bcc7ec513e1)\n"
     ]
    },
    {
     "data": {
      "application/vnd.jupyter.widget-view+json": {
       "model_id": "1712162d6b3a427db5aab657e42911b6",
       "version_major": 2,
       "version_minor": 0
      },
      "text/plain": [
       "  0%|          | 0/1 [00:00<?, ?it/s]"
      ]
     },
     "metadata": {},
     "output_type": "display_data"
    }
   ],
   "source": [
    "from datasets import load_dataset\n",
    "\n",
    "dataset = load_dataset(\"TopicNet/Lenta\")"
   ]
  },
  {
   "cell_type": "code",
   "execution_count": 2,
   "id": "ece8e74f-95e1-4330-9b98-40527f429a42",
   "metadata": {},
   "outputs": [
    {
     "data": {
      "text/plain": [
       "{'Unnamed: 0': 449272,\n",
       " 'url': 'https://lenta.ru/news/2013/01/01/fire2/',\n",
       " 'title': 'В ЮАР четыре тысячи человек остались без крова из-за пожара',\n",
       " 'text': 'В ЮАР произошел пожар, в результате которого погибли три человека, один получил ожоги, а четыре тысячи человек остались бездомными. Об этом 1 января сообщает Agence France-Presse. Пожар произошел в бедном районе Кейптауна. По информации Associated Press, этот район скученно застроен хижинами, зачастую возведенными самовольно. Для освещения, отопления и приготовления пищи там часто используются свечи, газовые горелки, керосиновые лампы и иные пожароопасные устройства. По предварительным данным, причиной возгорания стало неосторожное обращение с огнем в состоянии алкогольного опьянения. Распространению пламени способствовал сильный ветер. В настоящее время на месте работают команды спасателей. Они раздают пострадавшим продуктовые наборы, одежду и строительные материалы.',\n",
       " 'topic': 'Мир',\n",
       " 'tags': 'Все',\n",
       " 'lemmatized': 'юар произойти пожар результат погибнуть ожог тысяча остаться бездомный presse пожар произойти бедный район кейптаун press район скученно застроить хижина зачастую возвести самовольно освещение отопление приготовление пища часто использоваться свеча газовый горелка керосиновый лампа иной пожароопасный устройство предварительный причина возгорание неосторожный обращение огонь состояние алкогольный опьянение распространение пламя способствовать сильный ветер настоящее место команда спасатель раздавать пострадавший продуктовый набор одежда строительный материал',\n",
       " 'year': 2013,\n",
       " 'month': 1,\n",
       " 'day': 1,\n",
       " 'time_n': 449272,\n",
       " 'lemmatized_title': 'в юар четыре тысяча человек остаться без кров из за пожар',\n",
       " 'topmine': 'место_настоящее состояние_алкогольный_опьянение предварительный_причина состояние_алкогольный результат_пожар приготовление_пища самовольно_возвести результат_погибнуть остаться_тысяча часто_использоваться причина_возгорание пожар_произойти пожар_произойти алкогольный_опьянение пожар_presse сильный_ветер продуктовый_набор обращение_огонь строительный_материал результат_пожар_погибнуть результат_пожар_произойти',\n",
       " 'vw_text': '0 |@word юар произойти пожар результат погибнуть ожог тысяча остаться бездомный presse пожар произойти бедный район кейптаун press район скученно застроить хижина зачастую возвести самовольно освещение отопление приготовление пища часто использоваться свеча газовый горелка керосиновый лампа иной пожароопасный устройство предварительный причина возгорание неосторожный обращение огонь состояние алкогольный опьянение распространение пламя способствовать сильный ветер настоящее место команда спасатель раздавать пострадавший продуктовый набор одежда строительный материал |@ngramm место_настоящее состояние_алкогольный_опьянение предварительный_причина состояние_алкогольный результат_пожар приготовление_пища самовольно_возвести результат_погибнуть остаться_тысяча часто_использоваться причина_возгорание пожар_произойти пожар_произойти алкогольный_опьянение пожар_presse сильный_ветер продуктовый_набор обращение_огонь строительный_материал результат_пожар_погибнуть результат_пожар_произойти',\n",
       " 'id': 0}"
      ]
     },
     "execution_count": 2,
     "metadata": {},
     "output_type": "execute_result"
    }
   ],
   "source": [
    "dataset['train'][0]"
   ]
  },
  {
   "cell_type": "code",
   "execution_count": 3,
   "id": "6cac1288-a920-4dd4-92f9-03fd3d2aba77",
   "metadata": {},
   "outputs": [],
   "source": [
    "dataset = dataset.remove_columns(['url', 'tags', 'lemmatized', 'year', 'month', 'day', 'time_n', 'lemmatized_title', 'topmine', 'vw_text', 'title'])"
   ]
  },
  {
   "cell_type": "code",
   "execution_count": 4,
   "id": "9ffcc60b-e5cc-4afe-89e6-21c741a94fca",
   "metadata": {},
   "outputs": [
    {
     "data": {
      "text/plain": [
       "{'Unnamed: 0': 449272,\n",
       " 'text': 'В ЮАР произошел пожар, в результате которого погибли три человека, один получил ожоги, а четыре тысячи человек остались бездомными. Об этом 1 января сообщает Agence France-Presse. Пожар произошел в бедном районе Кейптауна. По информации Associated Press, этот район скученно застроен хижинами, зачастую возведенными самовольно. Для освещения, отопления и приготовления пищи там часто используются свечи, газовые горелки, керосиновые лампы и иные пожароопасные устройства. По предварительным данным, причиной возгорания стало неосторожное обращение с огнем в состоянии алкогольного опьянения. Распространению пламени способствовал сильный ветер. В настоящее время на месте работают команды спасателей. Они раздают пострадавшим продуктовые наборы, одежду и строительные материалы.',\n",
       " 'topic': 'Мир',\n",
       " 'id': 0}"
      ]
     },
     "execution_count": 4,
     "metadata": {},
     "output_type": "execute_result"
    }
   ],
   "source": [
    "dataset['train'][0]"
   ]
  },
  {
   "cell_type": "code",
   "execution_count": 5,
   "id": "28060b49-7c50-45f6-aed6-da7408200f26",
   "metadata": {},
   "outputs": [
    {
     "name": "stderr",
     "output_type": "stream",
     "text": [
      "2024-05-26 18:57:48.685521: I tensorflow/core/platform/cpu_feature_guard.cc:210] This TensorFlow binary is optimized to use available CPU instructions in performance-critical operations.\n",
      "To enable the following instructions: AVX2 FMA, in other operations, rebuild TensorFlow with the appropriate compiler flags.\n",
      "2024-05-26 18:57:49.262015: W tensorflow/compiler/tf2tensorrt/utils/py_utils.cc:38] TF-TRT Warning: Could not find TensorRT\n"
     ]
    }
   ],
   "source": [
    "import re\n",
    "import numpy as np\n",
    "import pandas as pd\n",
    "from tqdm import tqdm\n",
    "from sklearn.model_selection import train_test_split\n",
    "from sklearn.metrics import classification_report, f1_score\n",
    "\n",
    "import torch\n",
    "import transformers\n",
    "import torch.nn as nn\n",
    "from transformers import AutoModel, BertTokenizer, BertForSequenceClassification\n",
    "from torch.utils.data import TensorDataset, DataLoader, RandomSampler, SequentialSampler\n",
    "\n",
    "device = torch.device('cuda')"
   ]
  },
  {
   "cell_type": "code",
   "execution_count": 6,
   "id": "92c3ca40-7a15-449e-a280-84927a6fdf16",
   "metadata": {},
   "outputs": [],
   "source": [
    "bert = AutoModel.from_pretrained('DeepPavlov/rubert-base-cased-sentence')\n",
    "\n",
    "tokenizer = BertTokenizer.from_pretrained('DeepPavlov/rubert-base-cased-sentence')"
   ]
  },
  {
   "cell_type": "code",
   "execution_count": 7,
   "id": "6f3653de-300a-4db0-bf22-e8349b2497eb",
   "metadata": {},
   "outputs": [],
   "source": [
    "seq_len = [len(str(i).split()) for i in dataset['train']['text']]"
   ]
  },
  {
   "cell_type": "code",
   "execution_count": 8,
   "id": "e8fd77ca-4a44-44f2-8ba8-37793037a873",
   "metadata": {},
   "outputs": [
    {
     "data": {
      "text/plain": [
       "<Axes: >"
      ]
     },
     "execution_count": 8,
     "metadata": {},
     "output_type": "execute_result"
    },
    {
     "data": {
      "image/png": "[encoded data removed]",
      "text/plain": [
       "<Figure size 640x480 with 1 Axes>"
      ]
     },
     "metadata": {},
     "output_type": "display_data"
    }
   ],
   "source": [
    "pd.Series(seq_len).hist(bins = 50)"
   ]
  },
  {
   "cell_type": "code",
   "execution_count": 9,
   "id": "657100db-5c4c-4946-a806-ba999b4f53ca",
   "metadata": {},
   "outputs": [
    {
     "data": {
      "text/plain": [
       "23"
      ]
     },
     "execution_count": 9,
     "metadata": {},
     "output_type": "execute_result"
    }
   ],
   "source": [
    "len(set(dataset['train']['topic']))"
   ]
  },
  {
   "cell_type": "code",
   "execution_count": 10,
   "id": "d76baf8b-fad5-453e-9542-0b09f67eeeba",
   "metadata": {},
   "outputs": [],
   "source": [
    "df_pandas = dataset['train'].to_pandas()"
   ]
  },
  {
   "cell_type": "code",
   "execution_count": 11,
   "id": "920deeb8-21e4-49a8-b2e1-72f43274d2cc",
   "metadata": {},
   "outputs": [],
   "source": [
    "df_pandas.drop(columns=['Unnamed: 0'], inplace=True)"
   ]
  },
  {
   "cell_type": "code",
   "execution_count": 12,
   "id": "9c5bef4a-efd8-4956-a302-7484af8a6aa5",
   "metadata": {},
   "outputs": [],
   "source": [
    "df_pandas.drop(columns=['id'], inplace=True)"
   ]
  },
  {
   "cell_type": "code",
   "execution_count": 13,
   "id": "f872811f-6454-443f-96b1-b2c589c6a0b6",
   "metadata": {},
   "outputs": [
    {
     "data": {
      "text/plain": [
       "topic\n",
       "Россия               43492\n",
       "Мир                  41915\n",
       "Бывший СССР          23262\n",
       "Спорт                21397\n",
       "Экономика            21392\n",
       "Культура             19408\n",
       "Наука и техника      18764\n",
       "Интернет и СМИ       17378\n",
       "Из жизни             12222\n",
       "Силовые структуры    11223\n",
       "Дом                   9318\n",
       "Ценности              7581\n",
       "Бизнес                7375\n",
       "Путешествия           6370\n",
       "69-я параллель        1268\n",
       "Крым                   666\n",
       "Культпросвет           340\n",
       "Легпром                114\n",
       "Библиотека              65\n",
       "Оружие                   3\n",
       "ЧМ-2014                  2\n",
       "МедНовости               1\n",
       "Сочи                     1\n",
       "Name: count, dtype: int64"
      ]
     },
     "execution_count": 13,
     "metadata": {},
     "output_type": "execute_result"
    }
   ],
   "source": [
    "df_pandas['topic'].value_counts()"
   ]
  },
  {
   "cell_type": "code",
   "execution_count": 14,
   "id": "ed823e50-4a34-4496-b9b5-ffe1821cad98",
   "metadata": {},
   "outputs": [],
   "source": [
    "new_df = df_pandas.groupby('topic').filter(lambda g: len(g) > 6000)"
   ]
  },
  {
   "cell_type": "code",
   "execution_count": 15,
   "id": "c9e4674d-7bd4-4450-8a95-cce2bf675a69",
   "metadata": {},
   "outputs": [
    {
     "data": {
      "text/plain": [
       "topic\n",
       "Россия               43492\n",
       "Мир                  41915\n",
       "Бывший СССР          23262\n",
       "Спорт                21397\n",
       "Экономика            21392\n",
       "Культура             19408\n",
       "Наука и техника      18764\n",
       "Интернет и СМИ       17378\n",
       "Из жизни             12222\n",
       "Силовые структуры    11223\n",
       "Дом                   9318\n",
       "Ценности              7581\n",
       "Бизнес                7375\n",
       "Путешествия           6370\n",
       "Name: count, dtype: int64"
      ]
     },
     "execution_count": 15,
     "metadata": {},
     "output_type": "execute_result"
    }
   ],
   "source": [
    "new_df['topic'].value_counts()"
   ]
  },
  {
   "cell_type": "code",
   "execution_count": 16,
   "id": "31911901-5148-4ec0-ba98-3e0e3f063bf3",
   "metadata": {},
   "outputs": [
    {
     "data": {
      "text/plain": [
       "14"
      ]
     },
     "execution_count": 16,
     "metadata": {},
     "output_type": "execute_result"
    }
   ],
   "source": [
    "len(new_df['topic'].value_counts())"
   ]
  },
  {
   "cell_type": "code",
   "execution_count": 17,
   "id": "39453a0c-a3ef-4910-b248-9858888cd309",
   "metadata": {},
   "outputs": [],
   "source": [
    "df_pandas = new_df"
   ]
  },
  {
   "cell_type": "code",
   "execution_count": 18,
   "id": "fdd5bbd3-6ffe-48f9-bae5-e27cde5f687a",
   "metadata": {},
   "outputs": [
    {
     "data": {
      "text/plain": [
       "array([ 6,  6,  6, ...,  5, 11,  1])"
      ]
     },
     "execution_count": 18,
     "metadata": {},
     "output_type": "execute_result"
    }
   ],
   "source": [
    "from sklearn.preprocessing import LabelEncoder  \n",
    "\n",
    "le = LabelEncoder()\n",
    "le.fit_transform(df_pandas['topic'])"
   ]
  },
  {
   "cell_type": "code",
   "execution_count": 19,
   "id": "e1abd10c-ad9a-465d-b1eb-65849f55e2ae",
   "metadata": {},
   "outputs": [],
   "source": [
    "df_pandas['topic'] = le.fit_transform(df_pandas['topic'])"
   ]
  },
  {
   "cell_type": "code",
   "execution_count": 20,
   "id": "081767d3-4dc3-4b50-bf9f-07396bf0cf4d",
   "metadata": {},
   "outputs": [
    {
     "data": {
      "text/html": [
       "<div>\n",
       "<style scoped>\n",
       "    .dataframe tbody tr th:only-of-type {\n",
       "        vertical-align: middle;\n",
       "    }\n",
       "\n",
       "    .dataframe tbody tr th {\n",
       "        vertical-align: top;\n",
       "    }\n",
       "\n",
       "    .dataframe thead th {\n",
       "        text-align: right;\n",
       "    }\n",
       "</style>\n",
       "<table border=\"1\" class=\"dataframe\">\n",
       "  <thead>\n",
       "    <tr style=\"text-align: right;\">\n",
       "      <th></th>\n",
       "      <th>text</th>\n",
       "      <th>topic</th>\n",
       "    </tr>\n",
       "  </thead>\n",
       "  <tbody>\n",
       "    <tr>\n",
       "      <th>0</th>\n",
       "      <td>В ЮАР произошел пожар, в результате которого п...</td>\n",
       "      <td>6</td>\n",
       "    </tr>\n",
       "    <tr>\n",
       "      <th>1</th>\n",
       "      <td>Давка в крупнейшем городе Кот-д'Ивуара Абиджан...</td>\n",
       "      <td>6</td>\n",
       "    </tr>\n",
       "    <tr>\n",
       "      <th>2</th>\n",
       "      <td>Политические партии и общественные организации...</td>\n",
       "      <td>6</td>\n",
       "    </tr>\n",
       "    <tr>\n",
       "      <th>3</th>\n",
       "      <td>Премьер-министр Грузии Бидзина Иванишвили в но...</td>\n",
       "      <td>1</td>\n",
       "    </tr>\n",
       "    <tr>\n",
       "      <th>4</th>\n",
       "      <td>Полиция отпустила всех участников акции \"Страт...</td>\n",
       "      <td>9</td>\n",
       "    </tr>\n",
       "  </tbody>\n",
       "</table>\n",
       "</div>"
      ],
      "text/plain": [
       "                                                text  topic\n",
       "0  В ЮАР произошел пожар, в результате которого п...      6\n",
       "1  Давка в крупнейшем городе Кот-д'Ивуара Абиджан...      6\n",
       "2  Политические партии и общественные организации...      6\n",
       "3  Премьер-министр Грузии Бидзина Иванишвили в но...      1\n",
       "4  Полиция отпустила всех участников акции \"Страт...      9"
      ]
     },
     "execution_count": 20,
     "metadata": {},
     "output_type": "execute_result"
    }
   ],
   "source": [
    "df_pandas.head()"
   ]
  },
  {
   "cell_type": "code",
   "execution_count": 21,
   "id": "e5f4a395-a946-4b89-a094-da5f910b4ea8",
   "metadata": {},
   "outputs": [
    {
     "data": {
      "text/plain": [
       "0"
      ]
     },
     "execution_count": 21,
     "metadata": {},
     "output_type": "execute_result"
    }
   ],
   "source": [
    "min(le.fit_transform(df_pandas['topic']))"
   ]
  },
  {
   "cell_type": "code",
   "execution_count": 22,
   "id": "4c96c7a5-e60f-48d1-8c26-ace95413eccd",
   "metadata": {},
   "outputs": [
    {
     "data": {
      "text/plain": [
       "array([ 0,  1,  2,  3,  4,  5,  6,  7,  8,  9, 10, 11, 12, 13])"
      ]
     },
     "execution_count": 22,
     "metadata": {},
     "output_type": "execute_result"
    }
   ],
   "source": [
    "np.unique(df_pandas['topic'])"
   ]
  },
  {
   "cell_type": "code",
   "execution_count": 23,
   "id": "fd0c0d2e-779c-408b-8dca-be78f1467ad7",
   "metadata": {},
   "outputs": [],
   "source": [
    "x = df_pandas['text']"
   ]
  },
  {
   "cell_type": "code",
   "execution_count": 24,
   "id": "c1f1e05e-6442-4a5e-bea2-e9939a39bdde",
   "metadata": {},
   "outputs": [],
   "source": [
    "y = df_pandas['topic']"
   ]
  },
  {
   "cell_type": "code",
   "execution_count": 25,
   "id": "a8475b51-4ae7-4e09-90d2-1f93b1307cc3",
   "metadata": {},
   "outputs": [],
   "source": [
    "# from sklearn.cross_validation import train_test_split"
   ]
  },
  {
   "cell_type": "code",
   "execution_count": 26,
   "id": "2a81d919-e746-45f4-9207-ebac352684e6",
   "metadata": {},
   "outputs": [],
   "source": [
    "from sklearn.model_selection import train_test_split\n",
    "\n",
    "x, x_test, y, y_test = train_test_split(x, y, test_size=0.2, random_state=0, stratify=y)\n",
    "x_train, x_val, y_train, y_val = train_test_split(x, y, test_size=0.3, random_state=0, stratify=y)"
   ]
  },
  {
   "cell_type": "code",
   "execution_count": 48,
   "id": "7fa81365-3706-4e84-9c9c-10ec6da525f5",
   "metadata": {},
   "outputs": [
    {
     "name": "stderr",
     "output_type": "stream",
     "text": [
      "Some weights of BertForSequenceClassification were not initialized from the model checkpoint at DeepPavlov/rubert-base-cased-sentence and are newly initialized: ['classifier.weight', 'classifier.bias']\n",
      "You should probably TRAIN this model on a down-stream task to be able to use it for predictions and inference.\n"
     ]
    }
   ],
   "source": [
    "model = BertForSequenceClassification.from_pretrained('DeepPavlov/rubert-base-cased-sentence', num_labels=14).to(\"cuda\")\n",
    "tokenizer = BertTokenizer.from_pretrained('DeepPavlov/rubert-base-cased-sentence')"
   ]
  },
  {
   "cell_type": "code",
   "execution_count": 49,
   "id": "bc6fd0b5-3dbe-4441-9a53-7e7ce33886b6",
   "metadata": {},
   "outputs": [],
   "source": [
    "for w in model.bert.parameters():\n",
    "    w.requires_grad= False"
   ]
  },
  {
   "cell_type": "code",
   "execution_count": 33,
   "id": "240e9fd2-67f4-4d32-9afe-da683d35fa3a",
   "metadata": {},
   "outputs": [],
   "source": [
    "tokens_train = tokenizer.batch_encode_plus(\n",
    "    x_train.values,\n",
    "    max_length = 400,\n",
    "    padding = 'max_length',\n",
    "    truncation = True\n",
    ")\n",
    "tokens_val = tokenizer.batch_encode_plus(\n",
    "    x_val.values,\n",
    "    max_length = 400,\n",
    "    padding = 'max_length',\n",
    "    truncation = True\n",
    ")\n",
    "tokens_test = tokenizer.batch_encode_plus(\n",
    "    x_test.values,\n",
    "    max_length = 400,\n",
    "    padding = 'max_length',\n",
    "    truncation = True\n",
    ")\n",
    "\n",
    "# train_seq = torch.tensor(tokens_train['input_ids'])\n",
    "# train_mask = torch.tensor(tokens_train['attention_mask'])\n",
    "train_y = torch.tensor(y_train.values)\n",
    "\n",
    "# val_seq = torch.tensor(tokens_val['input_ids'])\n",
    "# val_mask = torch.tensor(tokens_val['attention_mask'])\n",
    "val_y = torch.tensor(y_val.values)\n",
    "\n",
    "# test_seq = torch.tensor(tokens_test['input_ids'])\n",
    "# test_mask = torch.tensor(tokens_test['attention_mask'])\n",
    "test_y = torch.tensor(y_test.values)\n",
    "batch_size = 8\n",
    "\n",
    "\n",
    "# train_data = TensorDataset(train_seq, train_mask, train_y)\n",
    "# train_sampler = RandomSampler(train_data)\n",
    "# train_dataloader = DataLoader(train_data, sampler = train_sampler, batch_size = batch_size)\n",
    "\n",
    "# val_data =  TensorDataset(val_seq, val_mask, val_y)\n",
    "# val_sampler = SequentialSampler(val_data)\n",
    "# val_dataloader = DataLoader(val_data, sampler = val_sampler, batch_size = batch_size)\n",
    "\n",
    "# test_data =  TensorDataset(test_seq, test_mask, test_y)"
   ]
  },
  {
   "cell_type": "code",
   "execution_count": 34,
   "id": "c1766b85-b308-42ef-9758-8ab6dddc8c25",
   "metadata": {},
   "outputs": [],
   "source": [
    "from transformers import TrainingArguments, Trainer"
   ]
  },
  {
   "cell_type": "code",
   "execution_count": 35,
   "id": "c302ad72-b59c-4c1f-aac8-378c181a9a8e",
   "metadata": {},
   "outputs": [],
   "source": [
    "class Data(torch.utils.data.Dataset):\n",
    "    def __init__(self, encodings, labels):\n",
    "        self.encodings = encodings\n",
    "        self.labels = labels\n",
    "        \n",
    "    def __getitem__(self, idx):\n",
    "        item = {k: torch.tensor(v[idx]) for k, v in self.encodings.items()}\n",
    "        item[\"labels\"] = torch.tensor([self.labels[idx]])\n",
    "        return item\n",
    "    def __len__(self):\n",
    "        return len(self.labels)\n",
    "    \n",
    "train_dataset = Data(tokens_train, train_y)\n",
    "val_dataset = Data(tokens_val, val_y)\n",
    "test_dataset = Data(tokens_test, test_y)"
   ]
  },
  {
   "cell_type": "code",
   "execution_count": 50,
   "id": "64c79ffd-bce1-476c-88ec-b38f9a30bac0",
   "metadata": {},
   "outputs": [],
   "source": [
    "training_args = TrainingArguments(\n",
    "    output_dir = './results', #Выходной каталог\n",
    "    num_train_epochs = 3, #Кол-во эпох для обучения\n",
    "    per_device_train_batch_size = 8, #Размер пакета для каждого устройства во время обучения\n",
    "    per_device_eval_batch_size = 8, #Размер пакета для каждого устройства во время валидации\n",
    "    weight_decay =0.01, #Понижение весов\n",
    "    logging_dir = './logs', #Каталог для хранения журналов\n",
    "    load_best_model_at_end = True, #Загружать ли лучшую модель после обучения\n",
    "    learning_rate = 1e-5, #Скорость обучения\n",
    "    evaluation_strategy ='epoch', #Валидация после каждой эпохи (можно сделать после конкретного кол-ва шагов)\n",
    "    logging_strategy = 'epoch', #Логирование после каждой эпохи\n",
    "    save_strategy = 'epoch', #Сохранение после каждой эпохи\n",
    "    save_total_limit = 1,\n",
    "    seed=21)"
   ]
  },
  {
   "cell_type": "code",
   "execution_count": 51,
   "id": "d5008896-38e7-4ada-9e7f-ebf7206ff13f",
   "metadata": {},
   "outputs": [],
   "source": [
    "from sklearn.metrics import f1_score\n",
    "def compute_metrics(pred):\n",
    "    labels = pred.label_ids\n",
    "    preds = pred.predictions.argmax(-1)\n",
    "    f1 = f1_score(labels, preds, average='micro')\n",
    "    return {'F1': f1}"
   ]
  },
  {
   "cell_type": "code",
   "execution_count": 52,
   "id": "4aa94aea-1c8c-4248-a3b3-a44b219149fa",
   "metadata": {},
   "outputs": [],
   "source": [
    "trainer = Trainer(model=model,\n",
    "                  tokenizer = tokenizer,\n",
    "                  args = training_args,\n",
    "                  train_dataset = train_dataset,\n",
    "                  eval_dataset = val_dataset,\n",
    "                  compute_metrics = compute_metrics)"
   ]
  },
  {
   "cell_type": "code",
   "execution_count": 53,
   "id": "37e12a5c-02f0-4217-9078-1d0538ffeaa9",
   "metadata": {},
   "outputs": [
    {
     "name": "stderr",
     "output_type": "stream",
     "text": [
      "/home/maxim/.local/lib/python3.10/site-packages/transformers/optimization.py:391: FutureWarning: This implementation of AdamW is deprecated and will be removed in a future version. Use the PyTorch implementation torch.optim.AdamW instead, or set `no_deprecation_warning=True` to disable this warning\n",
      "  warnings.warn(\n"
     ]
    },
    {
     "data": {
      "text/html": [
       "\n",
       "    <div>\n",
       "      \n",
       "      <progress value='54831' max='54831' style='width:300px; height:20px; vertical-align: middle;'></progress>\n",
       "      [54831/54831 4:27:05, Epoch 3/3]\n",
       "    </div>\n",
       "    <table border=\"1\" class=\"dataframe\">\n",
       "  <thead>\n",
       " <tr style=\"text-align: left;\">\n",
       "      <th>Epoch</th>\n",
       "      <th>Training Loss</th>\n",
       "      <th>Validation Loss</th>\n",
       "      <th>F1</th>\n",
       "    </tr>\n",
       "  </thead>\n",
       "  <tbody>\n",
       "    <tr>\n",
       "      <td>1</td>\n",
       "      <td>2.064900</td>\n",
       "      <td>1.777963</td>\n",
       "      <td>0.487904</td>\n",
       "    </tr>\n",
       "    <tr>\n",
       "      <td>2</td>\n",
       "      <td>1.684500</td>\n",
       "      <td>1.564945</td>\n",
       "      <td>0.563114</td>\n",
       "    </tr>\n",
       "    <tr>\n",
       "      <td>3</td>\n",
       "      <td>1.563600</td>\n",
       "      <td>1.509944</td>\n",
       "      <td>0.579360</td>\n",
       "    </tr>\n",
       "  </tbody>\n",
       "</table><p>"
      ],
      "text/plain": [
       "<IPython.core.display.HTML object>"
      ]
     },
     "metadata": {},
     "output_type": "display_data"
    },
    {
     "data": {
      "text/plain": [
       "TrainOutput(global_step=54831, training_loss=1.770976778362149, metrics={'train_runtime': 16025.4233, 'train_samples_per_second': 27.371, 'train_steps_per_second': 3.422, 'total_flos': 9.01743788538288e+16, 'train_loss': 1.770976778362149, 'epoch': 3.0})"
      ]
     },
     "execution_count": 53,
     "metadata": {},
     "output_type": "execute_result"
    }
   ],
   "source": [
    "trainer.train()"
   ]
  },
  {
   "cell_type": "code",
   "execution_count": 54,
   "id": "7b3740c4-ad6f-422c-9b2f-e4e3c21a1c76",
   "metadata": {},
   "outputs": [
    {
     "data": {
      "text/plain": [
       "('news/tokenizer_config.json',\n",
       " 'news/special_tokens_map.json',\n",
       " 'news/vocab.txt',\n",
       " 'news/added_tokens.json')"
      ]
     },
     "execution_count": 54,
     "metadata": {},
     "output_type": "execute_result"
    }
   ],
   "source": [
    "model_path = \"news\"\n",
    "model.save_pretrained(model_path)\n",
    "tokenizer.save_pretrained(model_path)"
   ]
  },
  {
   "cell_type": "code",
   "execution_count": 55,
   "id": "cfe47f63-75d1-44c8-9e34-8cf2a52c90cf",
   "metadata": {},
   "outputs": [],
   "source": [
    "torch.save(model.state_dict(), 'here.pt')"
   ]
  },
  {
   "cell_type": "code",
   "execution_count": 56,
   "id": "1d4e3502-7a8f-42d1-9e10-37449f32b563",
   "metadata": {},
   "outputs": [
    {
     "data": {
      "text/html": [],
      "text/plain": [
       "<IPython.core.display.HTML object>"
      ]
     },
     "metadata": {},
     "output_type": "display_data"
    }
   ],
   "source": [
    "def get_prediction():\n",
    "    test_pred = trainer.predict(test_dataset)\n",
    "    labels = np.argmax(test_pred.predictions, axis = -1)\n",
    "    return labels\n",
    "pred = get_prediction()"
   ]
  },
  {
   "cell_type": "code",
   "execution_count": 57,
   "id": "07cbaafe-6198-4cca-b107-ae5aed03c6e8",
   "metadata": {},
   "outputs": [
    {
     "data": {
      "text/plain": [
       "0.5810225967062428"
      ]
     },
     "execution_count": 57,
     "metadata": {},
     "output_type": "execute_result"
    }
   ],
   "source": [
    "f1_score(test_y, pred, average='micro')"
   ]
  },
  {
   "cell_type": "code",
   "execution_count": 58,
   "id": "58f54822-68f7-46f4-8634-c4a408a4e6b3",
   "metadata": {},
   "outputs": [
    {
     "name": "stderr",
     "output_type": "stream",
     "text": [
      "Some weights of BertForSequenceClassification were not initialized from the model checkpoint at DeepPavlov/rubert-base-cased-sentence and are newly initialized: ['classifier.weight', 'classifier.bias']\n",
      "You should probably TRAIN this model on a down-stream task to be able to use it for predictions and inference.\n"
     ]
    }
   ],
   "source": [
    "model = BertForSequenceClassification.from_pretrained('DeepPavlov/rubert-base-cased-sentence', num_labels=14).to(\"cuda\")\n",
    "tokenizer = BertTokenizer.from_pretrained('DeepPavlov/rubert-base-cased-sentence')"
   ]
  },
  {
   "cell_type": "code",
   "execution_count": 59,
   "id": "eff7042c-625a-458e-80d9-707fbf602d3a",
   "metadata": {},
   "outputs": [],
   "source": [
    "for w in model.bert.parameters():\n",
    "    w.requires_grad= False"
   ]
  },
  {
   "cell_type": "code",
   "execution_count": 60,
   "id": "cfc0fa1a-ac42-472c-89d5-5a82d9b2ea28",
   "metadata": {},
   "outputs": [],
   "source": [
    "training_args = TrainingArguments(\n",
    "    output_dir = './results', #Выходной каталог\n",
    "    num_train_epochs = 5, #Кол-во эпох для обучения\n",
    "    per_device_train_batch_size = 8, #Размер пакета для каждого устройства во время обучения\n",
    "    per_device_eval_batch_size = 8, #Размер пакета для каждого устройства во время валидации\n",
    "    weight_decay =0.01, #Понижение весов\n",
    "    logging_dir = './logs', #Каталог для хранения журналов\n",
    "    load_best_model_at_end = True, #Загружать ли лучшую модель после обучения\n",
    "    learning_rate = 2e-5, #Скорость обучения\n",
    "    evaluation_strategy ='epoch', #Валидация после каждой эпохи (можно сделать после конкретного кол-ва шагов)\n",
    "    logging_strategy = 'epoch', #Логирование после каждой эпохи\n",
    "    save_strategy = 'epoch', #Сохранение после каждой эпохи\n",
    "    save_total_limit = 1,\n",
    "    seed=21)"
   ]
  },
  {
   "cell_type": "code",
   "execution_count": 61,
   "id": "6117d752-c0cb-4de1-90b9-d645096b2fe4",
   "metadata": {},
   "outputs": [],
   "source": [
    "trainer = Trainer(model=model,\n",
    "                  tokenizer = tokenizer,\n",
    "                  args = training_args,\n",
    "                  train_dataset = train_dataset,\n",
    "                  eval_dataset = val_dataset,\n",
    "                  compute_metrics = compute_metrics)"
   ]
  },
  {
   "cell_type": "code",
   "execution_count": null,
   "id": "80c04791-0034-43ad-9600-eade0ddd097a",
   "metadata": {},
   "outputs": [
    {
     "name": "stderr",
     "output_type": "stream",
     "text": [
      "/home/maxim/.local/lib/python3.10/site-packages/transformers/optimization.py:391: FutureWarning: This implementation of AdamW is deprecated and will be removed in a future version. Use the PyTorch implementation torch.optim.AdamW instead, or set `no_deprecation_warning=True` to disable this warning\n",
      "  warnings.warn(\n"
     ]
    },
    {
     "data": {
      "text/html": [
       "\n",
       "    <div>\n",
       "      \n",
       "      <progress value='610' max='91385' style='width:300px; height:20px; vertical-align: middle;'></progress>\n",
       "      [  610/91385 02:01 < 5:03:30, 4.98 it/s, Epoch 0.03/5]\n",
       "    </div>\n",
       "    <table border=\"1\" class=\"dataframe\">\n",
       "  <thead>\n",
       " <tr style=\"text-align: left;\">\n",
       "      <th>Epoch</th>\n",
       "      <th>Training Loss</th>\n",
       "      <th>Validation Loss</th>\n",
       "    </tr>\n",
       "  </thead>\n",
       "  <tbody>\n",
       "  </tbody>\n",
       "</table><p>"
      ],
      "text/plain": [
       "<IPython.core.display.HTML object>"
      ]
     },
     "metadata": {},
     "output_type": "display_data"
    }
   ],
   "source": [
    "trainer.train()"
   ]
  },
  {
   "cell_type": "code",
   "execution_count": null,
   "id": "e1b25d33-90ad-4c51-a8da-62483b5c695c",
   "metadata": {},
   "outputs": [],
   "source": [
    "model_path = \"news2\"\n",
    "model.save_pretrained(model_path)\n",
    "tokenizer.save_pretrained(model_path)"
   ]
  },
  {
   "cell_type": "code",
   "execution_count": null,
   "id": "87284442-eb15-4924-a7db-e244788b59b6",
   "metadata": {},
   "outputs": [],
   "source": [
    "torch.save(model.state_dict(), 'here2.pt')"
   ]
  },
  {
   "cell_type": "code",
   "execution_count": null,
   "id": "8c0373fb-6647-4c74-b0d6-b2568354640b",
   "metadata": {},
   "outputs": [],
   "source": [
    "pred = get_prediction()"
   ]
  },
  {
   "cell_type": "code",
   "execution_count": null,
   "id": "b6705577-0f3c-406f-9d8e-ec974da67ae6",
   "metadata": {},
   "outputs": [],
   "source": [
    "f1_score(test_y, pred, average='micro')"
   ]
  },
  {
   "cell_type": "code",
   "execution_count": null,
   "id": "1e6c696b-25de-4858-8a04-61a03140d9ee",
   "metadata": {},
   "outputs": [],
   "source": [
    "print(classification_report(y_test, test_df['pred']))"
   ]
  }
 ],
 "metadata": {
  "kernelspec": {
   "display_name": "Python 3 (ipykernel)",
   "language": "python",
   "name": "python3"
  },
  "language_info": {
   "codemirror_mode": {
    "name": "ipython",
    "version": 3
   },
   "file_extension": ".py",
   "mimetype": "text/x-python",
   "name": "python",
   "nbconvert_exporter": "python",
   "pygments_lexer": "ipython3",
   "version": "3.10.12"
  }
 },
 "nbformat": 4,
 "nbformat_minor": 5
}
